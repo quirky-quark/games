{
 "cells": [
  {
   "cell_type": "code",
   "execution_count": null,
   "metadata": {},
   "outputs": [],
   "source": [
    "import requests\n",
    "from bs4 import BeautifulSoup\n",
    "import pandas as pd\n",
    "import re"
   ]
  },
  {
   "cell_type": "code",
   "execution_count": null,
   "metadata": {},
   "outputs": [],
   "source": [
    "#ЗАПУСКАТЬ ТОЛЬКО В СЛУЧАЕ ПОЛНОГО ПЕРЕЗАПУСКА ПАРСЕРА\n",
    "array = []"
   ]
  },
  {
   "cell_type": "code",
   "execution_count": null,
   "metadata": {},
   "outputs": [],
   "source": [
    "for x in range(0, 4613):\n",
    "    x_check = x\n",
    "    offset = x * 25\n",
    "    url_list = 'https://www.mobygames.com/browse/games/offset,' + str(offset) +'/so,0a/list-games/'\n",
    "    response_list = requests.get(url_list)\n",
    "    page_list = BeautifulSoup(response_list.text).find(id = 'mof_object_list').tbody.find_all('tr')\n",
    "    arr = []\n",
    "\n",
    "    for j in range(len(page_list)):\n",
    "        url = page_list[j].a['href']\n",
    "        response = requests.get(url)\n",
    "        page_soup = BeautifulSoup(response.text)\n",
    "\n",
    "        staff = page_soup.find(class_ = 'sideBarTitle')\n",
    "\n",
    "        if staff is None:\n",
    "            continue  \n",
    "        elif staff.h2.text.strip() == 'Credits':\n",
    "            continue\n",
    "        elif staff.h2.span is None:\n",
    "            devs = staff.h2.text.strip()\n",
    "            staff = 'NA'\n",
    "            thanks = 'NA'\n",
    "        else:\n",
    "            devs = staff.h2.contents[0].strip()\n",
    "            thanks = staff.h2.span.string.strip().split(', ')[1]\n",
    "            staff = staff.h2.span.string.strip().split(', ')[0]\n",
    "               \n",
    "        title = re.search('[\\W\\w]*(?= [(]\\d{4}[)])', page_soup.title.string).group(0).split(' for ')\n",
    "        if len(title) < 3:\n",
    "            title = title[0]\n",
    "        else:\n",
    "            title = ' for '.join(title[:-1])\n",
    "\n",
    "        coreGameRelease = page_soup.find(id = 'coreGameRelease').find_all('div')\n",
    "        for i in range(len(coreGameRelease)):\n",
    "            if coreGameRelease[i].text.strip() == 'Released':\n",
    "                release = coreGameRelease[i + 1].a.string.strip()\n",
    "            if coreGameRelease[i].text.strip() == 'Platforms' or coreGameRelease[i].text.strip() == 'Platform':\n",
    "                platforms =  coreGameRelease[i + 1].text.strip()\n",
    "        \n",
    "        arr.append([title, release, platforms, devs, staff, thanks])\n",
    "\n",
    "    array.extend(arr)"
   ]
  },
  {
   "cell_type": "code",
   "execution_count": null,
   "metadata": {},
   "outputs": [],
   "source": [
    "#база АКТИВНО пополняется, поэтому по ходу парсинга могут возникнуть дубликаты\n",
    "unique = []\n",
    "for x in array:\n",
    "    if x not in unique:\n",
    "        unique.append(x)"
   ]
  },
  {
   "cell_type": "code",
   "execution_count": null,
   "metadata": {},
   "outputs": [],
   "source": [
    "data = pd.DataFrame(unique, columns = ['title', 'release', 'platform', 'n_devs', 'n_staff', 'n_thanks'])\n",
    "data\n",
    "# data.to_csv('mg.csv', index = False)"
   ]
  },
  {
   "cell_type": "code",
   "execution_count": null,
   "metadata": {},
   "outputs": [],
   "source": [
    "x_check\n",
    "# arr"
   ]
  }
 ],
 "metadata": {
  "kernelspec": {
   "display_name": "Python 3",
   "language": "python",
   "name": "python3"
  },
  "language_info": {
   "codemirror_mode": {
    "name": "ipython",
    "version": 3
   },
   "file_extension": ".py",
   "mimetype": "text/x-python",
   "name": "python",
   "nbconvert_exporter": "python",
   "pygments_lexer": "ipython3",
   "version": "3.7.6"
  }
 },
 "nbformat": 4,
 "nbformat_minor": 4
}
