{
 "cells": [
  {
   "cell_type": "code",
   "execution_count": null,
   "metadata": {},
   "outputs": [],
   "source": [
    "import pandas as pd\n",
    "from bs4 import BeautifulSoup\n",
    "import requests"
   ]
  },
  {
   "cell_type": "code",
   "execution_count": null,
   "metadata": {},
   "outputs": [],
   "source": [
    "# ЗАПУСКАТЬ ТОЛЬКО ПЕРЕД ПОЛНЫМ ПАРСИНГОМ!!!\n",
    "array = []"
   ]
  },
  {
   "cell_type": "code",
   "execution_count": null,
   "metadata": {},
   "outputs": [],
   "source": [
    "for i in range(0, 12454):\n",
    "    i_check = i\n",
    "    url = 'https://howlongtobeat.com/game?id=' + str(i)\n",
    "    response = requests.get(url)\n",
    "\n",
    "    page_soup = BeautifulSoup(response.text)\n",
    "    \n",
    "    if page_soup.head.title.string == 'How long does it take to beat your favorite games? - HowLongToBeat.com':\n",
    "        continue\n",
    "\n",
    "    title = page_soup.head.title.string.replace(\"? | HowLongToBeat\", '').replace(\"How long is \", '')\n",
    "\n",
    "    profile_info = page_soup.find_all('div', class_='profile_info')\n",
    "\n",
    "    Type = 'Game'\n",
    "    parent = 'NA'\n",
    "    platform = 'NA'\n",
    "    date_na = 'NA'\n",
    "    date_eu = 'NA'\n",
    "    date_jp = 'NA'\n",
    "\n",
    "    for i in range(len(profile_info)):\n",
    "        if profile_info[i].strong.string.strip() == 'Type:':\n",
    "            Type = profile_info[i].contents[2].strip()\n",
    "        if profile_info[i].strong.string.strip() == 'Playable On:':\n",
    "            platform = profile_info[i].contents[2].strip()\n",
    "        if profile_info[i].strong.string.strip() == 'NA:':\n",
    "            date_na = profile_info[i].contents[2].strip()\n",
    "        if profile_info[i].strong.string.strip() == 'EU:':\n",
    "            date_eu = profile_info[i].contents[2].strip()\n",
    "        if profile_info[i].strong.string.strip() == 'JP:':\n",
    "            date_jp = profile_info[i].contents[2].strip()\n",
    "\n",
    "    if Type == 'DLC/Expansion':\n",
    "        if len(page_soup.find_all('td')) > 0:\n",
    "            if page_soup.td.string == 'Main Game':\n",
    "                parent = page_soup.tbody.a.string.strip()\n",
    "            else:\n",
    "                parent = title\n",
    "        else:\n",
    "            parent = title\n",
    "\n",
    "    game_main_table = page_soup.find_all('table', class_='game_main_table')\n",
    "\n",
    "    sp_pooled = 'NA'\n",
    "    sp_average = 'NA'\n",
    "    sp_median = 'NA'\n",
    "\n",
    "    coop_pooled = 'NA'\n",
    "    coop_average = 'NA'\n",
    "    coop_median = 'NA'\n",
    "\n",
    "    vs_pooled = 'NA'\n",
    "    vs_average = 'NA'\n",
    "    vs_median = 'NA'\n",
    "\n",
    "    for i in range(len(game_main_table)):\n",
    "        for j in range(len(game_main_table[i].find_all('tbody', class_ = 'spreadsheet'))):\n",
    "            if game_main_table[i].find_all('tbody', class_ = 'spreadsheet')[j].td.string.strip() == 'All PlayStyles':\n",
    "                sp_pooled = game_main_table[i].find_all('tbody', class_ = 'spreadsheet')[j].find_all('td')[1].string.strip()\n",
    "                sp_average = game_main_table[i].find_all('tbody', class_ = 'spreadsheet')[j].find_all('td')[2].string.strip()\n",
    "                sp_median = game_main_table[i].find_all('tbody', class_ = 'spreadsheet')[j].find_all('td')[3].string.strip()\n",
    "            if game_main_table[i].find_all('tbody', class_ = 'spreadsheet')[j].td.string.strip() == 'Co-Op':\n",
    "                coop_pooled = game_main_table[i].find_all('tbody', class_ = 'spreadsheet')[j].find_all('td')[1].string.strip()\n",
    "                coop_average = game_main_table[i].find_all('tbody', class_ = 'spreadsheet')[j].find_all('td')[2].string.strip()\n",
    "                coop_median = game_main_table[i].find_all('tbody', class_ = 'spreadsheet')[j].find_all('td')[3].string.strip()\n",
    "            if game_main_table[i].find_all('tbody', class_ = 'spreadsheet')[j].td.string.strip() == 'Competitive':\n",
    "                vs_pooled = game_main_table[i].find_all('tbody', class_ = 'spreadsheet')[j].find_all('td')[1].string.strip()\n",
    "                vs_average = game_main_table[i].find_all('tbody', class_ = 'spreadsheet')[j].find_all('td')[2].string.strip()\n",
    "                vs_median = game_main_table[i].find_all('tbody', class_ = 'spreadsheet')[j].find_all('td')[3].string.strip()\n",
    "\n",
    "    ar = [title, Type, parent, platform, date_na, date_eu, date_jp, sp_pooled, sp_average, sp_median,\n",
    "                         coop_pooled, coop_average, coop_median, vs_pooled, vs_average, vs_median]\n",
    "\n",
    "    array.append(ar)"
   ]
  },
  {
   "cell_type": "code",
   "execution_count": null,
   "metadata": {},
   "outputs": [],
   "source": [
    "data = pd.DataFrame(array, \n",
    "                    columns = ['title', 'type', 'parent', 'platfom' , 'date_na', 'date_eu', 'date_jp', 'sp_pooled', 'sp_average', 'sp_median',\n",
    "                     'coop_pooled', 'coop_average', 'coop_median', 'vs_pooled', 'vs_average', 'vs_median'])\n",
    "\n",
    "data\n",
    "\n",
    "# data.to_csv('hltb.csv', index=False)"
   ]
  },
  {
   "cell_type": "code",
   "execution_count": null,
   "metadata": {},
   "outputs": [],
   "source": [
    "i_check"
   ]
  }
 ],
 "metadata": {
  "kernelspec": {
   "display_name": "Python 3",
   "language": "python",
   "name": "python3"
  },
  "language_info": {
   "codemirror_mode": {
    "name": "ipython",
    "version": 3
   },
   "file_extension": ".py",
   "mimetype": "text/x-python",
   "name": "python",
   "nbconvert_exporter": "python",
   "pygments_lexer": "ipython3",
   "version": "3.7.6"
  }
 },
 "nbformat": 4,
 "nbformat_minor": 4
}
