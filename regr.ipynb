{
 "cells": [
  {
   "cell_type": "code",
   "execution_count": null,
   "metadata": {},
   "outputs": [],
   "source": [
    "import pandas as pd\n",
    "import statsmodels.api as sm\n",
    "from statsmodels.stats.outliers_influence import variance_inflation_factor\n",
    "from statsmodels.stats.diagnostic import het_white\n",
    "import scipy.stats as stats\n",
    "import plotly.express as px\n",
    "import plotly.graph_objects as go"
   ]
  },
  {
   "cell_type": "code",
   "execution_count": null,
   "metadata": {},
   "outputs": [],
   "source": [
    "main_reg = pd.read_csv('data_reg.csv')"
   ]
  },
  {
   "cell_type": "code",
   "execution_count": null,
   "metadata": {},
   "outputs": [],
   "source": [
    "regr = 'stock_var'"
   ]
  },
  {
   "cell_type": "code",
   "execution_count": null,
   "metadata": {},
   "outputs": [],
   "source": [
    "X = main_reg.loc[:,:'user_score']\n",
    "X = sm.add_constant(X)\n",
    "est = sm.OLS(main_reg.loc[:,regr], X).fit()"
   ]
  },
  {
   "cell_type": "code",
   "execution_count": null,
   "metadata": {},
   "outputs": [],
   "source": [
    "est.summary(alpha = 0.1)"
   ]
  },
  {
   "cell_type": "code",
   "execution_count": null,
   "metadata": {},
   "outputs": [],
   "source": [
    "# мультиколинеарность\n",
    "pd.Series([variance_inflation_factor(X.values, i) for i in range(X.shape[1])], index = X.columns)"
   ]
  },
  {
   "cell_type": "code",
   "execution_count": null,
   "metadata": {},
   "outputs": [],
   "source": [
    "#мутльтиколлинеарность\n",
    "target = 'station'\n",
    "var_list = main_reg.loc[:,:'user_score'].columns.tolist()\n",
    "var_list.pop(var_list.index(target))\n",
    "for i in var_list:\n",
    "    print(i + ' ' + str(stats.pearsonr(main_reg.loc[:,target], main_reg.loc[:,i])[0]))"
   ]
  },
  {
   "cell_type": "code",
   "execution_count": null,
   "metadata": {},
   "outputs": [],
   "source": [
    "# экзогенность\n",
    "err = main_reg.loc[:,regr] - est.predict()\n",
    "for i in main_reg.loc[:,:'user_score'].columns.tolist():\n",
    "    print(i + ' ' + str(stats.pearsonr(main_reg.loc[:,i], err)[1]))"
   ]
  },
  {
   "cell_type": "code",
   "execution_count": null,
   "metadata": {},
   "outputs": [],
   "source": [
    "# автокорелляция\n",
    "temp = pd.DataFrame({regr: main_reg.loc[:,regr], 'err': err}).sort_values(regr)\n",
    "fig = px.line(temp, x = regr, y = 'err')\n",
    "fig.show()"
   ]
  },
  {
   "cell_type": "code",
   "execution_count": null,
   "metadata": {},
   "outputs": [],
   "source": [
    "# автокорреляция\n",
    "for j in range(1,51):\n",
    "    print(str(j) + ' ' + str(stats.pearsonr([temp.err[i-j] for i in range(len(temp.err))][j:], temp.err[j:])[1]))"
   ]
  },
  {
   "cell_type": "code",
   "execution_count": null,
   "metadata": {},
   "outputs": [],
   "source": [
    "# гомоскедастичность\n",
    "fig = go.Figure(data = go.Scatter(x = main_reg.loc[:,regr], y = err, mode = 'markers'))\n",
    "fig.show()"
   ]
  },
  {
   "cell_type": "code",
   "execution_count": null,
   "metadata": {},
   "outputs": [],
   "source": [
    "het_white(err, main_reg.loc[:,:'station'])"
   ]
  }
 ],
 "metadata": {
  "kernelspec": {
   "display_name": "Python 3",
   "language": "python",
   "name": "python3"
  },
  "language_info": {
   "codemirror_mode": {
    "name": "ipython",
    "version": 3
   },
   "file_extension": ".py",
   "mimetype": "text/x-python",
   "name": "python",
   "nbconvert_exporter": "python",
   "pygments_lexer": "ipython3",
   "version": "3.7.6"
  }
 },
 "nbformat": 4,
 "nbformat_minor": 4
}
